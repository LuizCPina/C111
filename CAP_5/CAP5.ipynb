{
 "cells": [
  {
   "cell_type": "code",
   "execution_count": 108,
   "metadata": {},
   "outputs": [],
   "source": [
    "import pandas as pd\n",
    "import numpy as np"
   ]
  },
  {
   "cell_type": "markdown",
   "metadata": {},
   "source": [
    "Parte 1"
   ]
  },
  {
   "cell_type": "markdown",
   "metadata": {},
   "source": [
    "Questao 1)"
   ]
  },
  {
   "cell_type": "code",
   "execution_count": 109,
   "metadata": {},
   "outputs": [],
   "source": [
    "series1 = pd.Series({'Java': 16.25, 'C': 16.04, 'Python': 9.85})\n",
    "series2 = pd.Series({'C': 16.21, 'Python': 12.12, 'Java': 11.68})\n",
    "\n"
   ]
  },
  {
   "cell_type": "markdown",
   "metadata": {},
   "source": [
    "Questao 2)"
   ]
  },
  {
   "cell_type": "code",
   "execution_count": 110,
   "metadata": {},
   "outputs": [
    {
     "name": "stdout",
     "output_type": "stream",
     "text": [
      "Total de mercado no Ano 1: 42.14%\n",
      "Total de mercado no Ano 2: 40.01%\n"
     ]
    }
   ],
   "source": [
    "total1 = series1.sum()\n",
    "total2 = series2.sum()\n",
    "\n",
    "print(f\"Total de mercado no Ano 1: {total1}%\")\n",
    "print(f\"Total de mercado no Ano 2: {total2}%\")\n"
   ]
  },
  {
   "cell_type": "markdown",
   "metadata": {},
   "source": [
    "Questao 3)"
   ]
  },
  {
   "cell_type": "code",
   "execution_count": 111,
   "metadata": {},
   "outputs": [
    {
     "name": "stdout",
     "output_type": "stream",
     "text": [
      "Crescimento/Declínio de cada linguagem: C         0.17\n",
      "Java     -4.57\n",
      "Python    2.27\n",
      "dtype: float64\n"
     ]
    }
   ],
   "source": [
    "crescimento_declinio = series2 - series1\n",
    "print(f\"Crescimento/Declínio de cada linguagem: {crescimento_declinio}\")\n"
   ]
  },
  {
   "cell_type": "markdown",
   "metadata": {},
   "source": [
    "Questao 4)"
   ]
  },
  {
   "cell_type": "code",
   "execution_count": 112,
   "metadata": {},
   "outputs": [
    {
     "name": "stdout",
     "output_type": "stream",
     "text": [
      "Linguagens com crescimento: C         0.17\n",
      "Python    2.27\n",
      "dtype: float64\n"
     ]
    }
   ],
   "source": [
    "crescimento = crescimento_declinio[crescimento_declinio > 0]\n",
    "print(f\"Linguagens com crescimento: {crescimento}\")"
   ]
  },
  {
   "cell_type": "markdown",
   "metadata": {},
   "source": [
    "Questao 5)"
   ]
  },
  {
   "cell_type": "code",
   "execution_count": 113,
   "metadata": {},
   "outputs": [
    {
     "name": "stdout",
     "output_type": "stream",
     "text": [
      "Linguagem mais popular após 2 anos: \n",
      "Python    16.66\n",
      "dtype: float64\n"
     ]
    }
   ],
   "source": [
    "linguagemMaisPopular = (series2 + crescimento_declinio * 2).nlargest(1) \n",
    "\n",
    "print(f\"Linguagem mais popular após 2 anos: \\n{linguagemMaisPopular}\")"
   ]
  },
  {
   "cell_type": "markdown",
   "metadata": {},
   "source": [
    "Parte 2"
   ]
  },
  {
   "cell_type": "code",
   "execution_count": 114,
   "metadata": {},
   "outputs": [],
   "source": [
    "np.random.seed(10)\n",
    " \n",
    "df = pd.DataFrame(\n",
    "index=['A', 'B', 'C', 'D', 'E'],\n",
    "columns=['W', 'X', 'Y', 'Z'],\n",
    "data=np.random.randint(1, 50, [5, 4]))"
   ]
  },
  {
   "cell_type": "markdown",
   "metadata": {},
   "source": [
    "Questao 6)"
   ]
  },
  {
   "cell_type": "code",
   "execution_count": 115,
   "metadata": {},
   "outputs": [
    {
     "name": "stdout",
     "output_type": "stream",
     "text": [
      "Média dos elementos da coluna 'X' menores que 30: 17.5\n"
     ]
    }
   ],
   "source": [
    "print(\"Média dos elementos da coluna 'X' menores que 30:\", df['X'][df['X'] < 30].mean())"
   ]
  },
  {
   "cell_type": "markdown",
   "metadata": {},
   "source": [
    "Questao 7)"
   ]
  },
  {
   "cell_type": "code",
   "execution_count": 116,
   "metadata": {},
   "outputs": [
    {
     "name": "stdout",
     "output_type": "stream",
     "text": [
      "Média dos elementos da linha D: 34.5\n",
      "Soma dos elementos da linha E: 122\n"
     ]
    }
   ],
   "source": [
    "print(\"Média dos elementos da linha D:\", df.loc['D'].mean())\n",
    "print(\"Soma dos elementos da linha E:\", df.loc['E'].sum())"
   ]
  },
  {
   "cell_type": "markdown",
   "metadata": {},
   "source": [
    "Questao 8)"
   ]
  },
  {
   "cell_type": "code",
   "execution_count": 117,
   "metadata": {},
   "outputs": [
    {
     "name": "stdout",
     "output_type": "stream",
     "text": [
      "DataFrame slicing:\n",
      "    X   Y\n",
      "A  37  16\n",
      "C   9  10\n",
      "E  48  12\n",
      "\n",
      "Soma dos elementos de cada linha:\n",
      "A    53\n",
      "C    19\n",
      "E    60\n",
      "dtype: int64\n",
      "\n",
      "Soma dos elementos de cada coluna:\n",
      "X    94\n",
      "Y    38\n",
      "dtype: int64\n"
     ]
    }
   ],
   "source": [
    "print(\"DataFrame slicing:\")\n",
    "print(df.loc[['A', 'C', 'E'], ['X', 'Y']])\n",
    "print(\"\\nSoma dos elementos de cada linha:\")\n",
    "print(df.loc[['A', 'C', 'E'], ['X', 'Y']].sum(axis=1))\n",
    "print(\"\\nSoma dos elementos de cada coluna:\")\n",
    "print(df.loc[['A', 'C', 'E'], ['X', 'Y']].sum(axis=0))"
   ]
  },
  {
   "cell_type": "markdown",
   "metadata": {},
   "source": [
    "Parte 3)"
   ]
  },
  {
   "cell_type": "markdown",
   "metadata": {},
   "source": [
    "Questao 1)"
   ]
  },
  {
   "cell_type": "code",
   "execution_count": 127,
   "metadata": {},
   "outputs": [
    {
     "name": "stdout",
     "output_type": "stream",
     "text": [
      "Series([], Name: Country, dtype: object)\n",
      "Quantidade de países da OCEANIA: 20\n"
     ]
    }
   ],
   "source": [
    "df = pd.read_csv('paises.csv', \n",
    "delimiter=';')\n",
    "\n",
    "oceania = df[df['Region'].str.contains('Oceania')]\n",
    "\n",
    "print(oceania['Country'])\n",
    "print(f\"Quantidade de países da OCEANIA: {oceania.shape[1]}\")"
   ]
  },
  {
   "cell_type": "markdown",
   "metadata": {},
   "source": [
    "Questao 2)"
   ]
  },
  {
   "cell_type": "code",
   "execution_count": 119,
   "metadata": {},
   "outputs": [
    {
     "name": "stdout",
     "output_type": "stream",
     "text": [
      "País com maior população: China \n",
      "Região: ASIA (EX. NEAR EAST)         \n"
     ]
    }
   ],
   "source": [
    "\n",
    "maiorPopulacao = df.loc[df['Population'].idxmax()]\n",
    "\n",
    "print(f\"País com maior população: {maiorPopulacao['Country']}\")\n",
    "print(f\"Região: {maiorPopulacao['Region']}\")"
   ]
  },
  {
   "cell_type": "markdown",
   "metadata": {},
   "source": [
    "Questao 3)"
   ]
  },
  {
   "cell_type": "code",
   "execution_count": 120,
   "metadata": {},
   "outputs": [
    {
     "name": "stdout",
     "output_type": "stream",
     "text": [
      "Region\n",
      "ASIA (EX. NEAR EAST)                   79.553571\n",
      "BALTICS                                99.733333\n",
      "C.W. OF IND. STATES                    98.725000\n",
      "EASTERN EUROPE                         72.816667\n",
      "LATIN AMER. & CARIB                    88.640000\n",
      "NEAR EAST                              69.581250\n",
      "NORTHERN AFRICA                        56.033333\n",
      "NORTHERN AMERICA                       78.200000\n",
      "OCEANIA                                71.914286\n",
      "SUB-SAHARAN AFRICA                     61.284314\n",
      "WESTERN EUROPE                         80.821429\n",
      "Name: Literacy (%), dtype: float64\n"
     ]
    }
   ],
   "source": [
    "print(df.groupby('Region')['Literacy (%)'].mean())"
   ]
  },
  {
   "cell_type": "markdown",
   "metadata": {},
   "source": [
    "Questao 4)"
   ]
  },
  {
   "cell_type": "code",
   "execution_count": 121,
   "metadata": {},
   "outputs": [],
   "source": [
    "semCosta = df[df['Coastline (coast/area ratio)'] == 0]\n",
    "\n",
    "semCosta.to_csv('noCoast.csv')\n"
   ]
  },
  {
   "cell_type": "markdown",
   "metadata": {},
   "source": [
    "Questao 5)"
   ]
  },
  {
   "cell_type": "code",
   "execution_count": 124,
   "metadata": {},
   "outputs": [
    {
     "name": "stdout",
     "output_type": "stream",
     "text": [
      "Index(['Country', 'Region', 'Population', 'Area (sq. mi.)',\n",
      "       'Pop. Density (per sq. mi.)', 'Coastline (coast/area ratio)',\n",
      "       'Net migration', 'Infant mortality (per 1000 births)',\n",
      "       'GDP ($ per capita)', 'Literacy (%)', 'Phones (per 1000)', 'Arable (%)',\n",
      "       'Crops (%)', 'Other (%)', 'Climate', 'Birthrate', 'Deathrate',\n",
      "       'Agriculture', 'Industry', 'Service', 'Humanitarian Help'],\n",
      "      dtype='object')\n"
     ]
    }
   ],
   "source": [
    "def categorizar_mortalidade(deathrate):\n",
    "    if deathrate < 9:\n",
    "        return 'Balanced'\n",
    "    else:\n",
    "        return 'Urgent'\n",
    "\n",
    "\n",
    "df['Humanitarian Help'] = df['Deathrate'].apply(categorizar_mortalidade)\n",
    "\n",
    "print(df.columns)"
   ]
  }
 ],
 "metadata": {
  "kernelspec": {
   "display_name": "Python 3",
   "language": "python",
   "name": "python3"
  },
  "language_info": {
   "codemirror_mode": {
    "name": "ipython",
    "version": 3
   },
   "file_extension": ".py",
   "mimetype": "text/x-python",
   "name": "python",
   "nbconvert_exporter": "python",
   "pygments_lexer": "ipython3",
   "version": "3.13.2"
  }
 },
 "nbformat": 4,
 "nbformat_minor": 2
}
